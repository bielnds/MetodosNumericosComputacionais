{
  "nbformat": 4,
  "nbformat_minor": 0,
  "metadata": {
    "colab": {
      "provenance": [],
      "toc_visible": true
    },
    "kernelspec": {
      "name": "python3",
      "display_name": "Python 3"
    },
    "language_info": {
      "name": "python"
    }
  },
  "cells": [
    {
      "cell_type": "code",
      "source": [
        "#Considere a matriz  abaixo:\n",
        "#A=\n",
        "#[3 2 7]\n",
        "#[2 5 7]\n",
        "#[7 1 8]\n",
        "#Agora, implemente um programa para obter seus:\n",
        "#a. Autovalores e autovetores\n",
        "#b. Decomposição SVD"
      ],
      "metadata": {
        "id": "Q6am-LKXYgUT"
      },
      "execution_count": 6,
      "outputs": []
    },
    {
      "cell_type": "code",
      "execution_count": 4,
      "metadata": {
        "colab": {
          "base_uri": "https://localhost:8080/"
        },
        "id": "7tyMtiJXVjaI",
        "outputId": "e8a5504c-57cf-4240-8654-c2bc8e717094"
      },
      "outputs": [
        {
          "output_type": "stream",
          "name": "stdout",
          "text": [
            "Os autovalores da matriz são: \n",
            "[14.35631335 -1.47439425  3.11808089]\n",
            "\n",
            "Os autovetores da matriz são: \n",
            "[[-0.49765377 -0.71770766 -0.05354039]\n",
            " [-0.58529731 -0.39690103 -0.96038303]\n",
            " [-0.64013107  0.57215844  0.27349199]]\n"
          ]
        }
      ],
      "source": [
        "import math\n",
        "import cmath\n",
        "import numpy as np\n",
        "\n",
        "matriz=np.array([[3,2,7],\n",
        "                [2,5,7],\n",
        "                [7,1,8]]) \n",
        "\n",
        "autovalor, autovetor= np.linalg.eig(matriz)\n",
        "\n",
        "print(\"Os autovalores da matriz A são: \")\n",
        "print(autovalor)\n",
        "print()\n",
        "print(\"Os autovetores da matriz A são: \")\n",
        "print(autovetor)"
      ]
    },
    {
      "cell_type": "markdown",
      "source": [],
      "metadata": {
        "id": "L6iFvss3Ycb3"
      }
    },
    {
      "cell_type": "code",
      "source": [
        "import math\n",
        "import cmath\n",
        "import numpy as np\n",
        "\n",
        "matriz=np.array([[3,2,7],\n",
        "                [2,5,7],\n",
        "                [7,1,8]])\n",
        "\n",
        "u,singular,vt= np.linalg.svd(matriz)\n",
        "\n",
        "print(\"A matriz original é: \")\n",
        "print(matriz)\n",
        "print(\"A matriz de valores singulares é: \")\n",
        "print(singular)\n",
        "print(\"A matriz de vetores singulares a esquerda é: \")\n",
        "print(u)\n",
        "print(\"A matriz de vetores singulares a direita é: \")\n",
        "print(vt)"
      ],
      "metadata": {
        "colab": {
          "base_uri": "https://localhost:8080/"
        },
        "id": "ULTy-akMYbQ0",
        "outputId": "4be837d7-a0c6-4d0d-98c2-beead793e769"
      },
      "execution_count": 7,
      "outputs": [
        {
          "output_type": "stream",
          "name": "stdout",
          "text": [
            "A matriz original é: \n",
            "[[3 2 7]\n",
            " [2 5 7]\n",
            " [7 1 8]]\n",
            "A matriz de valores singulares é: \n",
            "[15.29608356  4.36493456  0.98852112]\n",
            "A matriz de vetores singulares a esquerda é: \n",
            "[[-0.51122121 -0.08505854 -0.85522975]\n",
            " [-0.53607734 -0.74623202  0.39466297]\n",
            " [-0.67176928  0.66022937  0.33589168]]\n",
            "A matriz de vetores singulares a direita é: \n",
            "[[-0.47778264 -0.28599467 -0.83062073]\n",
            " [ 0.6584213  -0.74251922 -0.12307149]\n",
            " [ 0.58155407  0.6056998  -0.54306778]]\n"
          ]
        }
      ]
    }
  ]
}