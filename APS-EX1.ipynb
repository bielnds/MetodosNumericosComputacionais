{
  "nbformat": 4,
  "nbformat_minor": 0,
  "metadata": {
    "colab": {
      "provenance": [],
      "toc_visible": true
    },
    "kernelspec": {
      "name": "python3",
      "display_name": "Python 3"
    },
    "language_info": {
      "name": "python"
    }
  },
  "cells": [
    {
      "cell_type": "code",
      "execution_count": 9,
      "metadata": {
        "id": "zBdKTQyVvm-3",
        "colab": {
          "base_uri": "https://localhost:8080/"
        },
        "outputId": "b67d305d-071c-45ca-fa73-285dd4cfbacb"
      },
      "outputs": [
        {
          "output_type": "stream",
          "name": "stdout",
          "text": [
            "Número convertido para decimal:  68714158608\n"
          ]
        }
      ],
      "source": [
        "#Dado o número FFFAEDA10 em hexadecimal, faça conversões para:\n",
        "#base binária\n",
        "#base octal\n",
        "#base heptadecimal\n",
        "\n",
        "import math\n",
        "\n",
        "hexadecimal = \"fffaeda10\"\n",
        "decimal = int(hexadecimal, base=16)\n",
        "print('Número convertido para decimal: ',decimal)"
      ]
    },
    {
      "cell_type": "code",
      "source": [
        "import math \n",
        "num= bin(68714158608)\n",
        "print (\"Número em binário> \",num)"
      ],
      "metadata": {
        "colab": {
          "base_uri": "https://localhost:8080/"
        },
        "id": "7e2wxbcnXqLK",
        "outputId": "20b2fc65-6b60-4454-efba-6d07980e180b"
      },
      "execution_count": 14,
      "outputs": [
        {
          "output_type": "stream",
          "name": "stdout",
          "text": [
            "Número em binário:  0b111111111111101011101101101000010000\n"
          ]
        }
      ]
    },
    {
      "cell_type": "code",
      "source": [
        "import math\n",
        "num = oct(68714158608)\n",
        "print (\"Número em octal: \",num)"
      ],
      "metadata": {
        "colab": {
          "base_uri": "https://localhost:8080/"
        },
        "id": "kQS-LMuYYVWR",
        "outputId": "1821da5e-10da-4aff-ec3e-0520b9331d7f"
      },
      "execution_count": 34,
      "outputs": [
        {
          "output_type": "stream",
          "name": "stdout",
          "text": [
            "Número em octal:  0o777753555020\n"
          ]
        }
      ]
    },
    {
      "cell_type": "code",
      "source": [
        "import math\n",
        "\n",
        "def decimal_pra_hepta(numero_decimal):\n",
        "  numero_hepta =\"\"\n",
        "  while numero_decimal>0:\n",
        "    resto=numero_decimal%7\n",
        "    numero_hepta = str(resto)+numero_hepta\n",
        "    numero_decimal=numero_decimal//7\n",
        "  return numero_hepta\n",
        "\n",
        "numero_decimal=68714158608\n",
        "numero_hepta= decimal_pra_hepta(numero_decimal)\n",
        "print(\"Número em heptadecimal: \",numero_hepta)"
      ],
      "metadata": {
        "colab": {
          "base_uri": "https://localhost:8080/"
        },
        "id": "yEMzd-eiv_vs",
        "outputId": "4d6ef4ac-f36f-455f-9267-4f6d1be75270"
      },
      "execution_count": 39,
      "outputs": [
        {
          "output_type": "stream",
          "name": "stdout",
          "text": [
            "Número em heptadecimal:  4651541465634\n"
          ]
        }
      ]
    }
  ]
}